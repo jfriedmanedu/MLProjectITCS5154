version https://git-lfs.github.com/spec/v1
oid sha256:ef0cd536836491fc3e03985fa6372089497ad8ad4a40a8e2a0617ad4c111ab02
size 334165698
