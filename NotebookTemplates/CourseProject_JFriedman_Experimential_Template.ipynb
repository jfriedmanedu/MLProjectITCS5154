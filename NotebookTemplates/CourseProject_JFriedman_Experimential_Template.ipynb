version https://git-lfs.github.com/spec/v1
oid sha256:005cb4d8bfea72a3b1304083cf9bcc245fbd3b820a6e4d48de57729e7f174218
size 533044625
